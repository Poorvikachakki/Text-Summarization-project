
# Text Summarization using BART (Abstractive)

from transformers import pipeline

# Load pre-trained summarizer
summarizer = pipeline("summarization", model="facebook/bart-large-cnn")

# Input text (can be replaced with any long text)
text = '''Your long article goes here...'''

# Generate summary
summary = summarizer(text, max_length=130, min_length=30, do_sample=False)
print("Summary:", summary[0]['summary_text'])
